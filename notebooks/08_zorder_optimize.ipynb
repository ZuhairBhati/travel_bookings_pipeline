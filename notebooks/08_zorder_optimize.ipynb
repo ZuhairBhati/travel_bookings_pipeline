{
 "cells": [
  {
   "cell_type": "code",
   "execution_count": 0,
   "metadata": {
    "application/vnd.databricks.v1+cell": {
     "cellMetadata": {},
     "inputWidgets": {},
     "nuid": "b9856fba-3143-4e05-bfa9-1cf2cdda90dc",
     "showTitle": false,
     "tableResultSettingsMap": {},
     "title": ""
    }
   },
   "outputs": [],
   "source": [
    "# =============================================================================\n",
    "# TRAVEL BOOKING SCD2 MERGE PROJECT - TABLE OPTIMIZATION: Z-ORDER & VACUUM\n",
    "# =============================================================================\n",
    "# This notebook optimizes Delta tables for query performance\n",
    "# Purpose: Applies Z-ORDER clustering and VACUUM operations for optimal performance\n",
    "# Performance: Improves query speed through data clustering and file cleanup\n",
    "# Output: Optimized tables with better query performance and reduced storage\n",
    "\n",
    "# =============================================================================\n",
    "# PARAMETER EXTRACTION WITH DEFAULTS\n",
    "# =============================================================================\n",
    "# Extract widget parameters with fallback defaults for flexibility\n",
    "# catalog: Unity Catalog name (defaults to travel_bookings)\n",
    "# schema: Target schema (defaults to default)\n",
    "\n",
    "try:\n",
    "    catalog = dbutils.widgets.get(\"catalog\")\n",
    "except Exception:\n",
    "    catalog = \"travel_bookings\"\n",
    "try:\n",
    "    schema = dbutils.widgets.get(\"schema\")\n",
    "except Exception:\n",
    "    schema = \"default\"\n",
    "\n",
    "# =============================================================================\n",
    "# Z-ORDER CLUSTERING OPTIMIZATION\n",
    "# =============================================================================\n",
    "# Apply Z-ORDER clustering to improve query performance\n",
    "# booking_fact: Clustered by customer_id and booking_type for common join patterns\n",
    "# customer_dim: Clustered by customer_id for dimension lookups\n",
    "# Z-ORDER co-locates related data for faster scans and joins\n",
    "\n",
    "spark.sql(f\"OPTIMIZE {catalog}.{schema}.booking_fact ZORDER BY (customer_id, booking_type)\")\n",
    "spark.sql(f\"OPTIMIZE {catalog}.{schema}.customer_dim ZORDER BY (customer_id)\")\n",
    "\n",
    "# =============================================================================\n",
    "# VACUUM OPERATIONS\n",
    "# =============================================================================\n",
    "# Clean up old files and optimize storage\n",
    "# RETAIN 168 HOURS: Keeps files for 7 days to support time travel\n",
    "# Removes files that are no longer referenced by the current table version\n",
    "# Reduces storage costs and improves performance\n",
    "\n",
    "spark.sql(f\"VACUUM {catalog}.{schema}.booking_fact RETAIN 168 HOURS\")\n",
    "spark.sql(f\"VACUUM {catalog}.{schema}.customer_dim RETAIN 168 HOURS\")\n",
    "\n",
    "print(\"Table optimization complete\")\n"
   ]
  }
 ],
 "metadata": {
  "application/vnd.databricks.v1+notebook": {
   "computePreferences": null,
   "dashboards": [],
   "environmentMetadata": {
    "base_environment": "",
    "environment_version": "3"
   },
   "inputWidgetPreferences": null,
   "language": "python",
   "notebookMetadata": {
    "pythonIndentUnit": 4
   },
   "notebookName": "08_zorder_optimize",
   "widgets": {}
  },
  "language_info": {
   "name": "python"
  }
 },
 "nbformat": 4,
 "nbformat_minor": 0
}