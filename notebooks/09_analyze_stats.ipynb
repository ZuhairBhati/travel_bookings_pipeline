{
 "cells": [
  {
   "cell_type": "code",
   "execution_count": 0,
   "metadata": {
    "application/vnd.databricks.v1+cell": {
     "cellMetadata": {},
     "inputWidgets": {},
     "nuid": "39749bcf-b068-46c9-a98e-cbb64371651d",
     "showTitle": false,
     "tableResultSettingsMap": {},
     "title": ""
    }
   },
   "outputs": [],
   "source": [
    "# =============================================================================\n",
    "# TRAVEL BOOKING SCD2 MERGE PROJECT - STATISTICS ANALYSIS: TABLE STATISTICS\n",
    "# =============================================================================\n",
    "# This notebook updates table statistics for query optimization\n",
    "# Purpose: Computes and updates column statistics for optimal query planning\n",
    "# Performance: Enables cost-based optimizer to make better execution plans\n",
    "# Output: Updated statistics for all columns in fact and dimension tables\n",
    "\n",
    "# =============================================================================\n",
    "# PARAMETER EXTRACTION WITH DEFAULTS\n",
    "# =============================================================================\n",
    "# Extract widget parameters with fallback defaults for flexibility\n",
    "# catalog: Unity Catalog name (defaults to travel_bookings)\n",
    "# schema: Target schema (defaults to default)\n",
    "\n",
    "try:\n",
    "    catalog = dbutils.widgets.get(\"catalog\")\n",
    "except Exception:\n",
    "    catalog = \"travel_bookings\"\n",
    "try:\n",
    "    schema = dbutils.widgets.get(\"schema\")\n",
    "except Exception:\n",
    "    schema = \"default\"\n",
    "\n",
    "# =============================================================================\n",
    "# TABLE STATISTICS COMPUTATION\n",
    "# =============================================================================\n",
    "# Compute statistics for all columns in fact and dimension tables\n",
    "# booking_fact: Statistics for customer_id, booking_type, business_date, amounts\n",
    "# customer_dim: Statistics for customer_id, name, address, email, temporal columns\n",
    "# FOR ALL COLUMNS: Ensures comprehensive statistics for all query patterns\n",
    "\n",
    "spark.sql(f\"ANALYZE TABLE {catalog}.{schema}.booking_fact COMPUTE STATISTICS FOR ALL COLUMNS\")\n",
    "spark.sql(f\"ANALYZE TABLE {catalog}.{schema}.customer_dim COMPUTE STATISTICS FOR ALL COLUMNS\")\n",
    "\n",
    "print(\"Statistics analysis complete\")\n"
   ]
  }
 ],
 "metadata": {
  "application/vnd.databricks.v1+notebook": {
   "computePreferences": null,
   "dashboards": [],
   "environmentMetadata": {
    "base_environment": "",
    "environment_version": "3"
   },
   "inputWidgetPreferences": null,
   "language": "python",
   "notebookMetadata": {
    "pythonIndentUnit": 4
   },
   "notebookName": "09_analyze_stats",
   "widgets": {}
  },
  "language_info": {
   "name": "python"
  }
 },
 "nbformat": 4,
 "nbformat_minor": 0
}