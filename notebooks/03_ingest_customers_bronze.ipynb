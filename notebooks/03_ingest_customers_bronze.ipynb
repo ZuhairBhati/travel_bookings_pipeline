{
 "cells": [
  {
   "cell_type": "code",
   "execution_count": 0,
   "metadata": {
    "application/vnd.databricks.v1+cell": {
     "cellMetadata": {},
     "inputWidgets": {},
     "nuid": "6e1a8397-7691-412f-b510-a98d0900ac96",
     "showTitle": false,
     "tableResultSettingsMap": {},
     "title": ""
    }
   },
   "outputs": [],
   "source": [
    "# =============================================================================\n",
    "# TRAVEL BOOKING SCD2 MERGE PROJECT - BRONZE LAYER: CUSTOMER DATA INGESTION\n",
    "# =============================================================================\n",
    "# This notebook ingests customer master data into the bronze layer with SCD2 preparation\n",
    "# Purpose: Raw customer data ingestion with SCD2 temporal columns for dimension processing\n",
    "# Data Quality: Adds SCD2 metadata columns for historical tracking\n",
    "# Output: Creates/updates bronze.customer_inc table with SCD2-ready customer data\n",
    "\n",
    "import datetime as _dt\n",
    "try:\n",
    "    arrival_date = dbutils.widgets.get(\"arrival_date\")\n",
    "except Exception:\n",
    "    arrival_date = _dt.date.today().strftime(\"%Y-%m-%d\")\n",
    "try:\n",
    "    catalog = dbutils.widgets.get(\"catalog\")\n",
    "except Exception:\n",
    "    catalog = \"travel_bookings\"\n",
    "try:\n",
    "    schema = dbutils.widgets.get(\"schema\")\n",
    "except Exception:\n",
    "    schema = \"default\"\n",
    "try:\n",
    "    base_volume = dbutils.widgets.get(\"base_volume\")\n",
    "except Exception:\n",
    "    base_volume = f\"/Volumes/{catalog}/{schema}/data\"\n",
    "\n",
    "from pyspark.sql import functions as F\n",
    "\n",
    "# =============================================================================\n",
    "# DATA INGESTION CONFIGURATION\n",
    "# =============================================================================\n",
    "# Construct file path and configure CSV reader for customer data\n",
    "# Handles quoted fields, multi-line records, and schema inference\n",
    "\n",
    "customer_path = f\"{base_volume}/customer_data/customers_{arrival_date}.csv\"\n",
    "\n",
    "df = (spark.read.format(\"csv\")\n",
    "      .option(\"header\",\"true\").option(\"inferSchema\",\"true\")\n",
    "      .option(\"quote\",\"\\\"\").option(\"multiLine\",\"true\")\n",
    "      .load(customer_path))\n",
    "\n",
    "# =============================================================================\n",
    "# SCD2 TEMPORAL COLUMNS PREPARATION\n",
    "# =============================================================================\n",
    "# Add SCD2 temporal columns for dimension table processing\n",
    "# valid_from: Start date for this version (business date)\n",
    "# valid_to: End date for this version (9999-12-31 for current records)\n",
    "# is_current: Boolean flag indicating if this is the current version\n",
    "# business_date: Business date for partitioning and filtering\n",
    "\n",
    "out = (df\n",
    "  .withColumn(\"valid_from\", F.to_date(F.lit(arrival_date)))\n",
    "  .withColumn(\"valid_to\", F.to_date(F.lit(\"9999-12-31\")))\n",
    "  .withColumn(\"is_current\", F.lit(True))\n",
    "  .withColumn(\"business_date\", F.to_date(F.lit(arrival_date))))\n",
    "\n",
    "# =============================================================================\n",
    "# BRONZE LAYER STORAGE\n",
    "# =============================================================================\n",
    "# Create bronze schema and save data to Delta table\n",
    "# Uses append mode for incremental loading\n",
    "# Delta format provides ACID properties and schema evolution\n",
    "\n",
    "spark.sql(f\"CREATE SCHEMA IF NOT EXISTS {catalog}.bronze\")\n",
    "\n",
    "out.write.format(\"delta\").mode(\"append\").saveAsTable(f\"{catalog}.bronze.customer_inc\")\n",
    "\n",
    "print(f\"Ingested rows: {out.count()}\")\n"
   ]
  }
 ],
 "metadata": {
  "application/vnd.databricks.v1+notebook": {
   "computePreferences": null,
   "dashboards": [],
   "environmentMetadata": {
    "base_environment": "",
    "environment_version": "3"
   },
   "inputWidgetPreferences": null,
   "language": "python",
   "notebookMetadata": {
    "pythonIndentUnit": 4
   },
   "notebookName": "03_ingest_customers_bronze",
   "widgets": {}
  },
  "language_info": {
   "name": "python"
  }
 },
 "nbformat": 4,
 "nbformat_minor": 0
}